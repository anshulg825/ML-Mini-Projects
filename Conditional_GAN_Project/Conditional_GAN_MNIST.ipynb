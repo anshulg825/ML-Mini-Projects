{
  "nbformat": 4,
  "nbformat_minor": 0,
  "metadata": {
    "colab": {
      "name": "Conditional_GAN_MNIST.ipynb",
      "provenance": [],
      "collapsed_sections": []
    },
    "kernelspec": {
      "name": "python3",
      "display_name": "Python 3"
    },
    "language_info": {
      "name": "python"
    }
  },
  "cells": [
    {
      "cell_type": "code",
      "metadata": {
        "id": "oMo-12IQHDsQ",
        "colab": {
          "base_uri": "https://localhost:8080/"
        },
        "outputId": "8218074a-542f-4e35-a39f-6bfb36121729"
      },
      "source": [
        "import torch\n",
        "from torchvision import transforms, datasets\n",
        "import torch.nn as nn\n",
        "from torch import optim as optim\n",
        "\n",
        "device = torch.device(\"cuda\" if torch.cuda.is_available() else \"cpu\")\n",
        "print(device)"
      ],
      "execution_count": null,
      "outputs": [
        {
          "output_type": "stream",
          "text": [
            "cpu\n"
          ],
          "name": "stdout"
        }
      ]
    },
    {
      "cell_type": "code",
      "metadata": {
        "id": "jm-Ubp24zLMA"
      },
      "source": [
        "n_classes = 100\n",
        "embedding_dim = 100\n",
        "latent_dim = 100"
      ],
      "execution_count": null,
      "outputs": []
    },
    {
      "cell_type": "code",
      "metadata": {
        "id": "eTAa5nnYPyJF"
      },
      "source": [
        "batch_size = 100\n",
        "\n",
        "dataset = dset.CIFAR100(root=\"./data\", download=True,\n",
        "                           transform=transforms.Compose([\n",
        "                               transforms.ToTensor(),\n",
        "                               transforms.Normalize((0.5, 0.5, 0.5), (0.5, 0.5, 0.5)),\n",
        "                           ]))\n",
        "print(len(dataset))\n",
        "\n",
        "dataloader = torch.utils.data.DataLoader(dataset, batch_size=batch_size,shuffle=True, num_workers=2)\n",
        "print(len(dataloader))"
      ],
      "execution_count": null,
      "outputs": []
    },
    {
      "cell_type": "code",
      "metadata": {
        "id": "EfaYryiAS0pN",
        "colab": {
          "base_uri": "https://localhost:8080/"
        },
        "outputId": "cb412523-bdb4-4195-cefe-13e9ff6705b6"
      },
      "source": [
        "class GeneratorModel(nn.Module):\n",
        "    def __init__(self):\n",
        "        super(GeneratorModel, self).__init__()\n",
        "        input_dim = 100 + 100\n",
        "        output_dim = 3072\n",
        "        self.label_embedding = nn.Embedding(n_classes, n_classes)\n",
        "        \n",
        "        self.hidden_layer1 = nn.Sequential(\n",
        "            nn.Linear(input_dim, 256),\n",
        "            nn.LeakyReLU(0.2)\n",
        "        )\n",
        "\n",
        "        self.hidden_layer2 = nn.Sequential(\n",
        "            nn.Linear(256, 512),\n",
        "            nn.LeakyReLU(0.2)\n",
        "        )\n",
        "\n",
        "        self.hidden_layer3 = nn.Sequential(\n",
        "            nn.Linear(512, 1024),\n",
        "            nn.LeakyReLU(0.2)\n",
        "        )\n",
        "\n",
        "        self.hidden_layer4 = nn.Sequential(\n",
        "            nn.Linear(1024, output_dim),\n",
        "            nn.Tanh()\n",
        "        )\n",
        "    \n",
        "    def forward(self, x, labels):\n",
        "        c = self.label_embedding(labels)\n",
        "        c = c.view(-1,x.size(1))\n",
        "        x = torch.cat([x,c], 1)\n",
        "        output = self.hidden_layer1(x)\n",
        "        output = self.hidden_layer2(output)\n",
        "        output = self.hidden_layer3(output)\n",
        "        output = self.hidden_layer4(output)\n",
        "        return output.to(device)\n",
        "\n",
        "class DiscriminatorModel(nn.Module):\n",
        "    def __init__(self):\n",
        "        super(DiscriminatorModel, self).__init__()\n",
        "        input_dim = 3072 + 100\n",
        "        output_dim = 1\n",
        "        self.label_embedding = nn.Embedding(n_classes, n_classes)\n",
        "\n",
        "        self.hidden_layer1 = nn.Sequential(\n",
        "            nn.Linear(input_dim, 1024),\n",
        "            nn.LeakyReLU(0.2),\n",
        "            nn.Dropout(0.3)\n",
        "        )\n",
        "\n",
        "        self.hidden_layer2 = nn.Sequential(\n",
        "            nn.Linear(1024, 512),\n",
        "            nn.LeakyReLU(0.2),\n",
        "            nn.Dropout(0.3)\n",
        "        )\n",
        "\n",
        "        self.hidden_layer3 = nn.Sequential(\n",
        "            nn.Linear(512, 256),\n",
        "            nn.LeakyReLU(0.2),\n",
        "            nn.Dropout(0.3)\n",
        "        )\n",
        "\n",
        "        self.hidden_layer4 = nn.Sequential(\n",
        "            nn.Linear(256, output_dim),\n",
        "            nn.Sigmoid()\n",
        "        )\n",
        "\n",
        "    def forward(self, x, labels):\n",
        "        c = self.label_embedding(labels)\n",
        "        c = c.view(-1,latent_dim)\n",
        "        x = torch.cat([x, c], 1)\n",
        "        output = self.hidden_layer1(x)\n",
        "        output = self.hidden_layer2(output)\n",
        "        output = self.hidden_layer3(output)\n",
        "        output = self.hidden_layer4(output)\n",
        "\n",
        "        return output.to(device)\n",
        "\n",
        "discriminator = DiscriminatorModel()\n",
        "generator = GeneratorModel()\n",
        "discriminator.to(device)\n",
        "generator.to(device)"
      ],
      "execution_count": null,
      "outputs": [
        {
          "output_type": "execute_result",
          "data": {
            "text/plain": [
              "GeneratorModel(\n",
              "  (label_embedding): Embedding(10, 10)\n",
              "  (hidden_layer1): Sequential(\n",
              "    (0): Linear(in_features=110, out_features=256, bias=True)\n",
              "    (1): LeakyReLU(negative_slope=0.2)\n",
              "  )\n",
              "  (hidden_layer2): Sequential(\n",
              "    (0): Linear(in_features=256, out_features=512, bias=True)\n",
              "    (1): LeakyReLU(negative_slope=0.2)\n",
              "  )\n",
              "  (hidden_layer3): Sequential(\n",
              "    (0): Linear(in_features=512, out_features=1024, bias=True)\n",
              "    (1): LeakyReLU(negative_slope=0.2)\n",
              "  )\n",
              "  (hidden_layer4): Sequential(\n",
              "    (0): Linear(in_features=1024, out_features=784, bias=True)\n",
              "    (1): Tanh()\n",
              "  )\n",
              ")"
            ]
          },
          "metadata": {},
          "execution_count": 10
        }
      ]
    },
    {
      "cell_type": "code",
      "metadata": {
        "id": "DOszeR11S5VL"
      },
      "source": [
        "discriminator_optimizer = optim.Adam(discriminator.parameters(), lr=0.00002)\n",
        "generator_optimizer = optim.Adam(generator.parameters(), lr=0.00002)\n",
        "\n",
        "loss = nn.BCELoss()\n",
        "n_epochs = 10"
      ],
      "execution_count": null,
      "outputs": []
    },
    {
      "cell_type": "code",
      "metadata": {
        "id": "RDZr61FDTBcQ",
        "colab": {
          "base_uri": "https://localhost:8080/",
          "height": 1000
        },
        "outputId": "30d27384-c2a2-4044-bc93-3353788cee03"
      },
      "source": [
        "for epoch_idx in range(n_epochs):\n",
        "    G_loss = []\n",
        "    D_loss = []\n",
        "    for batch_idx, data_input in enumerate(data_loader):\n",
        "         \n",
        "        true_data = data_input[0].view(batch_size, 3072).to(device) # batch_size X 784\n",
        "        digit_labels = data_input[1].to(device) # batch_size\n",
        "        true_labels = torch.ones(batch_size).to(device)\n",
        "\n",
        "        noise = torch.randn(batch_size,100).to(device)\n",
        "        generated_data = generator(noise, fake_labels) # batch_size X 784\n",
        "\n",
        "        # Discriminator\n",
        "        \n",
        "        discriminator_optimizer.zero_grad()\n",
        "\n",
        "        discriminator_output_for_true_data = discriminator(true_data, digit_labels).view(batch_size)\n",
        "        true_discriminator_loss = loss(discriminator_output_for_true_data, true_labels)\n",
        "\n",
        "        discriminator_output_for_generated_data = discriminator(generated_data.detach(), fake_labels).view(batch_size)\n",
        "        generator_discriminator_loss = loss(discriminator_output_for_generated_data, torch.zeros(batch_size).to(device))\n",
        "        discriminator_loss = (true_discriminator_loss + generator_discriminator_loss) / 2\n",
        "        \n",
        "        discriminator_loss.backward()\n",
        "        discriminator_optimizer.step()\n",
        "\n",
        "        D_loss.append(discriminator_loss.data.item())\n",
        "        \n",
        "        # Generator\n",
        "        generator_optimizer.zero_grad()\n",
        "        # It's a choice to generate the data again\n",
        "        generated_data = generator(noise, fake_labels) # batch_size X 784\n",
        "        discriminator_output_on_generated_data = discriminator(generated_data, fake_labels).view(batch_size)\n",
        "        generator_loss = loss(discriminator_output_on_generated_data, true_labels)\n",
        "        generator_loss.backward()\n",
        "        generator_optimizer.step()\n",
        "        \n",
        "        G_loss.append(generator_loss.data.item())\n",
        "        if ((batch_idx + 1)% 500 == 0 and (epoch_idx + 1)%5 == 0):\n",
        "            print(\"Training Steps Completed: \", batch_idx)\n",
        "            \n",
        "            with torch.no_grad():\n",
        "                noise = torch.randn(batch_size,100).to(device)\n",
        "                fake_labels = torch.randint(0, 10, (batch_size,)).to(device)\n",
        "                generated_data = generator(noise, fake_labels).cpu().view(batch_size, 28, 28)\n",
        "                for x in generated_data:\n",
        "                    print(fake_labels[0].item())\n",
        "                    plt.imshow(x.detach().numpy(), interpolation='nearest',cmap='gray')\n",
        "                    plt.show()\n",
        "                    break\n",
        "\n",
        "    print('[%d/%d]: loss_d: %.3f, loss_g: %.3f' % ((epoch_idx), n_epochs, torch.mean(torch.FloatTensor(D_loss)), torch.mean(torch.FloatTensor(G_loss))))"
      ],
      "execution_count": null,
      "outputs": [
        {
          "output_type": "stream",
          "text": [
            "[0/100]: loss_d: 0.442, loss_g: 3.117\n",
            "[1/100]: loss_d: 0.566, loss_g: 1.387\n",
            "[2/100]: loss_d: 0.458, loss_g: 2.351\n",
            "[3/100]: loss_d: 0.303, loss_g: 2.775\n",
            "Training Steps Completed:  499\n",
            "4\n"
          ],
          "name": "stdout"
        },
        {
          "output_type": "display_data",
          "data": {
            "image/png": "[encoded data removed]",
            "text/plain": [
              "<Figure size 432x288 with 1 Axes>"
            ]
          },
          "metadata": {
            "needs_background": "light"
          }
        },
        {
          "output_type": "stream",
          "text": [
            "[4/100]: loss_d: 0.262, loss_g: 3.124\n",
            "[5/100]: loss_d: 0.258, loss_g: 3.041\n",
            "[6/100]: loss_d: 0.273, loss_g: 2.822\n",
            "[7/100]: loss_d: 0.261, loss_g: 2.862\n",
            "[8/100]: loss_d: 0.284, loss_g: 2.730\n",
            "Training Steps Completed:  499\n",
            "7\n"
          ],
          "name": "stdout"
        },
        {
          "output_type": "display_data",
          "data": {
            "image/png": "[encoded data removed]",
            "text/plain": [
              "<Figure size 432x288 with 1 Axes>"
            ]
          },
          "metadata": {
            "needs_background": "light"
          }
        },
        {
          "output_type": "stream",
          "text": [
            "[9/100]: loss_d: 0.261, loss_g: 2.962\n",
            "[10/100]: loss_d: 0.265, loss_g: 2.778\n",
            "[11/100]: loss_d: 0.270, loss_g: 2.995\n",
            "[12/100]: loss_d: 0.298, loss_g: 2.554\n",
            "[13/100]: loss_d: 0.337, loss_g: 2.309\n",
            "Training Steps Completed:  499\n",
            "5\n"
          ],
          "name": "stdout"
        },
        {
          "output_type": "display_data",
          "data": {
            "image/png": "[encoded data removed]",
            "text/plain": [
              "<Figure size 432x288 with 1 Axes>"
            ]
          },
          "metadata": {
            "needs_background": "light"
          }
        },
        {
          "output_type": "stream",
          "text": [
            "[14/100]: loss_d: 0.350, loss_g: 2.265\n"
          ],
          "name": "stdout"
        }
      ]
    }
  ]
}